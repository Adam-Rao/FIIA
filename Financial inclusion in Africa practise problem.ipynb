{
 "cells": [
  {
   "cell_type": "code",
   "execution_count": 266,
   "metadata": {},
   "outputs": [],
   "source": [
    "import numpy as np\n",
    "import pandas as pd\n",
    "import matplotlib.pyplot as plt\n",
    "from sklearn.utils import shuffle\n",
    "from sklearn.preprocessing import OneHotEncoder, LabelBinarizer\n",
    "from sklearn.ensemble import RandomForestClassifier\n",
    "from sklearn.compose import ColumnTransformer\n",
    "\n",
    "%matplotlib inline"
   ]
  },
  {
   "cell_type": "code",
   "execution_count": 232,
   "metadata": {},
   "outputs": [
    {
     "data": {
      "text/html": [
       "<div>\n",
       "<style scoped>\n",
       "    .dataframe tbody tr th:only-of-type {\n",
       "        vertical-align: middle;\n",
       "    }\n",
       "\n",
       "    .dataframe tbody tr th {\n",
       "        vertical-align: top;\n",
       "    }\n",
       "\n",
       "    .dataframe thead th {\n",
       "        text-align: right;\n",
       "    }\n",
       "</style>\n",
       "<table border=\"1\" class=\"dataframe\">\n",
       "  <thead>\n",
       "    <tr style=\"text-align: right;\">\n",
       "      <th></th>\n",
       "      <th>0</th>\n",
       "      <th>1</th>\n",
       "      <th>2</th>\n",
       "      <th>3</th>\n",
       "      <th>4</th>\n",
       "    </tr>\n",
       "  </thead>\n",
       "  <tbody>\n",
       "    <tr>\n",
       "      <th>country</th>\n",
       "      <td>Kenya</td>\n",
       "      <td>Kenya</td>\n",
       "      <td>Kenya</td>\n",
       "      <td>Kenya</td>\n",
       "      <td>Kenya</td>\n",
       "    </tr>\n",
       "    <tr>\n",
       "      <th>year</th>\n",
       "      <td>2018</td>\n",
       "      <td>2018</td>\n",
       "      <td>2018</td>\n",
       "      <td>2018</td>\n",
       "      <td>2018</td>\n",
       "    </tr>\n",
       "    <tr>\n",
       "      <th>uniqueid</th>\n",
       "      <td>uniqueid_1</td>\n",
       "      <td>uniqueid_2</td>\n",
       "      <td>uniqueid_3</td>\n",
       "      <td>uniqueid_4</td>\n",
       "      <td>uniqueid_5</td>\n",
       "    </tr>\n",
       "    <tr>\n",
       "      <th>bank_account</th>\n",
       "      <td>Yes</td>\n",
       "      <td>No</td>\n",
       "      <td>Yes</td>\n",
       "      <td>No</td>\n",
       "      <td>No</td>\n",
       "    </tr>\n",
       "    <tr>\n",
       "      <th>location_type</th>\n",
       "      <td>Rural</td>\n",
       "      <td>Rural</td>\n",
       "      <td>Urban</td>\n",
       "      <td>Rural</td>\n",
       "      <td>Urban</td>\n",
       "    </tr>\n",
       "    <tr>\n",
       "      <th>cellphone_access</th>\n",
       "      <td>Yes</td>\n",
       "      <td>No</td>\n",
       "      <td>Yes</td>\n",
       "      <td>Yes</td>\n",
       "      <td>No</td>\n",
       "    </tr>\n",
       "    <tr>\n",
       "      <th>household_size</th>\n",
       "      <td>3</td>\n",
       "      <td>5</td>\n",
       "      <td>5</td>\n",
       "      <td>5</td>\n",
       "      <td>8</td>\n",
       "    </tr>\n",
       "    <tr>\n",
       "      <th>age_of_respondent</th>\n",
       "      <td>24</td>\n",
       "      <td>70</td>\n",
       "      <td>26</td>\n",
       "      <td>34</td>\n",
       "      <td>26</td>\n",
       "    </tr>\n",
       "    <tr>\n",
       "      <th>gender_of_respondent</th>\n",
       "      <td>Female</td>\n",
       "      <td>Female</td>\n",
       "      <td>Male</td>\n",
       "      <td>Female</td>\n",
       "      <td>Male</td>\n",
       "    </tr>\n",
       "    <tr>\n",
       "      <th>relationship_with_head</th>\n",
       "      <td>Spouse</td>\n",
       "      <td>Head of Household</td>\n",
       "      <td>Other relative</td>\n",
       "      <td>Head of Household</td>\n",
       "      <td>Child</td>\n",
       "    </tr>\n",
       "    <tr>\n",
       "      <th>marital_status</th>\n",
       "      <td>Married/Living together</td>\n",
       "      <td>Widowed</td>\n",
       "      <td>Single/Never Married</td>\n",
       "      <td>Married/Living together</td>\n",
       "      <td>Single/Never Married</td>\n",
       "    </tr>\n",
       "    <tr>\n",
       "      <th>education_level</th>\n",
       "      <td>Secondary education</td>\n",
       "      <td>No formal education</td>\n",
       "      <td>Vocational/Specialised training</td>\n",
       "      <td>Primary education</td>\n",
       "      <td>Primary education</td>\n",
       "    </tr>\n",
       "    <tr>\n",
       "      <th>job_type</th>\n",
       "      <td>Self employed</td>\n",
       "      <td>Government Dependent</td>\n",
       "      <td>Self employed</td>\n",
       "      <td>Formally employed Private</td>\n",
       "      <td>Informally employed</td>\n",
       "    </tr>\n",
       "  </tbody>\n",
       "</table>\n",
       "</div>"
      ],
      "text/plain": [
       "                                              0                     1  \\\n",
       "country                                   Kenya                 Kenya   \n",
       "year                                       2018                  2018   \n",
       "uniqueid                             uniqueid_1            uniqueid_2   \n",
       "bank_account                                Yes                    No   \n",
       "location_type                             Rural                 Rural   \n",
       "cellphone_access                            Yes                    No   \n",
       "household_size                                3                     5   \n",
       "age_of_respondent                            24                    70   \n",
       "gender_of_respondent                     Female                Female   \n",
       "relationship_with_head                   Spouse     Head of Household   \n",
       "marital_status          Married/Living together               Widowed   \n",
       "education_level             Secondary education   No formal education   \n",
       "job_type                          Self employed  Government Dependent   \n",
       "\n",
       "                                                      2  \\\n",
       "country                                           Kenya   \n",
       "year                                               2018   \n",
       "uniqueid                                     uniqueid_3   \n",
       "bank_account                                        Yes   \n",
       "location_type                                     Urban   \n",
       "cellphone_access                                    Yes   \n",
       "household_size                                        5   \n",
       "age_of_respondent                                    26   \n",
       "gender_of_respondent                               Male   \n",
       "relationship_with_head                   Other relative   \n",
       "marital_status                     Single/Never Married   \n",
       "education_level         Vocational/Specialised training   \n",
       "job_type                                  Self employed   \n",
       "\n",
       "                                                3                     4  \n",
       "country                                     Kenya                 Kenya  \n",
       "year                                         2018                  2018  \n",
       "uniqueid                               uniqueid_4            uniqueid_5  \n",
       "bank_account                                   No                    No  \n",
       "location_type                               Rural                 Urban  \n",
       "cellphone_access                              Yes                    No  \n",
       "household_size                                  5                     8  \n",
       "age_of_respondent                              34                    26  \n",
       "gender_of_respondent                       Female                  Male  \n",
       "relationship_with_head          Head of Household                 Child  \n",
       "marital_status            Married/Living together  Single/Never Married  \n",
       "education_level                 Primary education     Primary education  \n",
       "job_type                Formally employed Private   Informally employed  "
      ]
     },
     "execution_count": 232,
     "metadata": {},
     "output_type": "execute_result"
    }
   ],
   "source": [
    "df = pd.read_csv('./datasets/Train_v2.csv')\n",
    "df.head().T"
   ]
  },
  {
   "cell_type": "code",
   "execution_count": 233,
   "metadata": {},
   "outputs": [
    {
     "data": {
      "text/plain": [
       "country                   0\n",
       "year                      0\n",
       "uniqueid                  0\n",
       "bank_account              0\n",
       "location_type             0\n",
       "cellphone_access          0\n",
       "household_size            0\n",
       "age_of_respondent         0\n",
       "gender_of_respondent      0\n",
       "relationship_with_head    0\n",
       "marital_status            0\n",
       "education_level           0\n",
       "job_type                  0\n",
       "dtype: int64"
      ]
     },
     "execution_count": 233,
     "metadata": {},
     "output_type": "execute_result"
    }
   ],
   "source": [
    "df.isna().sum()"
   ]
  },
  {
   "cell_type": "code",
   "execution_count": 234,
   "metadata": {},
   "outputs": [
    {
     "data": {
      "text/plain": [
       "country                   object\n",
       "year                       int64\n",
       "uniqueid                  object\n",
       "bank_account              object\n",
       "location_type             object\n",
       "cellphone_access          object\n",
       "household_size             int64\n",
       "age_of_respondent          int64\n",
       "gender_of_respondent      object\n",
       "relationship_with_head    object\n",
       "marital_status            object\n",
       "education_level           object\n",
       "job_type                  object\n",
       "dtype: object"
      ]
     },
     "execution_count": 234,
     "metadata": {},
     "output_type": "execute_result"
    }
   ],
   "source": [
    "df.dtypes"
   ]
  },
  {
   "cell_type": "code",
   "execution_count": 235,
   "metadata": {},
   "outputs": [
    {
     "data": {
      "text/html": [
       "<div>\n",
       "<style scoped>\n",
       "    .dataframe tbody tr th:only-of-type {\n",
       "        vertical-align: middle;\n",
       "    }\n",
       "\n",
       "    .dataframe tbody tr th {\n",
       "        vertical-align: top;\n",
       "    }\n",
       "\n",
       "    .dataframe thead th {\n",
       "        text-align: right;\n",
       "    }\n",
       "</style>\n",
       "<table border=\"1\" class=\"dataframe\">\n",
       "  <thead>\n",
       "    <tr style=\"text-align: right;\">\n",
       "      <th></th>\n",
       "      <th>0</th>\n",
       "      <th>1</th>\n",
       "      <th>2</th>\n",
       "      <th>3</th>\n",
       "      <th>4</th>\n",
       "    </tr>\n",
       "  </thead>\n",
       "  <tbody>\n",
       "    <tr>\n",
       "      <th>country</th>\n",
       "      <td>Kenya</td>\n",
       "      <td>Kenya</td>\n",
       "      <td>Kenya</td>\n",
       "      <td>Kenya</td>\n",
       "      <td>Kenya</td>\n",
       "    </tr>\n",
       "    <tr>\n",
       "      <th>year</th>\n",
       "      <td>2018</td>\n",
       "      <td>2018</td>\n",
       "      <td>2018</td>\n",
       "      <td>2018</td>\n",
       "      <td>2018</td>\n",
       "    </tr>\n",
       "    <tr>\n",
       "      <th>uniqueid</th>\n",
       "      <td>uniqueid_1</td>\n",
       "      <td>uniqueid_2</td>\n",
       "      <td>uniqueid_3</td>\n",
       "      <td>uniqueid_4</td>\n",
       "      <td>uniqueid_5</td>\n",
       "    </tr>\n",
       "    <tr>\n",
       "      <th>bank_account</th>\n",
       "      <td>Yes</td>\n",
       "      <td>No</td>\n",
       "      <td>Yes</td>\n",
       "      <td>No</td>\n",
       "      <td>No</td>\n",
       "    </tr>\n",
       "    <tr>\n",
       "      <th>location_type</th>\n",
       "      <td>Rural</td>\n",
       "      <td>Rural</td>\n",
       "      <td>Urban</td>\n",
       "      <td>Rural</td>\n",
       "      <td>Urban</td>\n",
       "    </tr>\n",
       "    <tr>\n",
       "      <th>cellphone_access</th>\n",
       "      <td>Yes</td>\n",
       "      <td>No</td>\n",
       "      <td>Yes</td>\n",
       "      <td>Yes</td>\n",
       "      <td>No</td>\n",
       "    </tr>\n",
       "    <tr>\n",
       "      <th>household_size</th>\n",
       "      <td>3</td>\n",
       "      <td>5</td>\n",
       "      <td>5</td>\n",
       "      <td>5</td>\n",
       "      <td>8</td>\n",
       "    </tr>\n",
       "    <tr>\n",
       "      <th>age_of_respondent</th>\n",
       "      <td>24</td>\n",
       "      <td>70</td>\n",
       "      <td>26</td>\n",
       "      <td>34</td>\n",
       "      <td>26</td>\n",
       "    </tr>\n",
       "    <tr>\n",
       "      <th>gender_of_respondent</th>\n",
       "      <td>Female</td>\n",
       "      <td>Female</td>\n",
       "      <td>Male</td>\n",
       "      <td>Female</td>\n",
       "      <td>Male</td>\n",
       "    </tr>\n",
       "    <tr>\n",
       "      <th>relationship_with_head</th>\n",
       "      <td>Spouse</td>\n",
       "      <td>Head of Household</td>\n",
       "      <td>Other relative</td>\n",
       "      <td>Head of Household</td>\n",
       "      <td>Child</td>\n",
       "    </tr>\n",
       "    <tr>\n",
       "      <th>marital_status</th>\n",
       "      <td>Married/Living together</td>\n",
       "      <td>Widowed</td>\n",
       "      <td>Single/Never Married</td>\n",
       "      <td>Married/Living together</td>\n",
       "      <td>Single/Never Married</td>\n",
       "    </tr>\n",
       "    <tr>\n",
       "      <th>education_level</th>\n",
       "      <td>Secondary education</td>\n",
       "      <td>No formal education</td>\n",
       "      <td>Vocational/Specialised training</td>\n",
       "      <td>Primary education</td>\n",
       "      <td>Primary education</td>\n",
       "    </tr>\n",
       "    <tr>\n",
       "      <th>job_type</th>\n",
       "      <td>Self employed</td>\n",
       "      <td>Government Dependent</td>\n",
       "      <td>Self employed</td>\n",
       "      <td>Formally employed Private</td>\n",
       "      <td>Informally employed</td>\n",
       "    </tr>\n",
       "  </tbody>\n",
       "</table>\n",
       "</div>"
      ],
      "text/plain": [
       "                                              0                     1  \\\n",
       "country                                   Kenya                 Kenya   \n",
       "year                                       2018                  2018   \n",
       "uniqueid                             uniqueid_1            uniqueid_2   \n",
       "bank_account                                Yes                    No   \n",
       "location_type                             Rural                 Rural   \n",
       "cellphone_access                            Yes                    No   \n",
       "household_size                                3                     5   \n",
       "age_of_respondent                            24                    70   \n",
       "gender_of_respondent                     Female                Female   \n",
       "relationship_with_head                   Spouse     Head of Household   \n",
       "marital_status          Married/Living together               Widowed   \n",
       "education_level             Secondary education   No formal education   \n",
       "job_type                          Self employed  Government Dependent   \n",
       "\n",
       "                                                      2  \\\n",
       "country                                           Kenya   \n",
       "year                                               2018   \n",
       "uniqueid                                     uniqueid_3   \n",
       "bank_account                                        Yes   \n",
       "location_type                                     Urban   \n",
       "cellphone_access                                    Yes   \n",
       "household_size                                        5   \n",
       "age_of_respondent                                    26   \n",
       "gender_of_respondent                               Male   \n",
       "relationship_with_head                   Other relative   \n",
       "marital_status                     Single/Never Married   \n",
       "education_level         Vocational/Specialised training   \n",
       "job_type                                  Self employed   \n",
       "\n",
       "                                                3                     4  \n",
       "country                                     Kenya                 Kenya  \n",
       "year                                         2018                  2018  \n",
       "uniqueid                               uniqueid_4            uniqueid_5  \n",
       "bank_account                                   No                    No  \n",
       "location_type                               Rural                 Urban  \n",
       "cellphone_access                              Yes                    No  \n",
       "household_size                                  5                     8  \n",
       "age_of_respondent                              34                    26  \n",
       "gender_of_respondent                       Female                  Male  \n",
       "relationship_with_head          Head of Household                 Child  \n",
       "marital_status            Married/Living together  Single/Never Married  \n",
       "education_level                 Primary education     Primary education  \n",
       "job_type                Formally employed Private   Informally employed  "
      ]
     },
     "execution_count": 235,
     "metadata": {},
     "output_type": "execute_result"
    }
   ],
   "source": [
    "df.head().T"
   ]
  },
  {
   "cell_type": "code",
   "execution_count": 236,
   "metadata": {},
   "outputs": [
    {
     "data": {
      "text/html": [
       "<div>\n",
       "<style scoped>\n",
       "    .dataframe tbody tr th:only-of-type {\n",
       "        vertical-align: middle;\n",
       "    }\n",
       "\n",
       "    .dataframe tbody tr th {\n",
       "        vertical-align: top;\n",
       "    }\n",
       "\n",
       "    .dataframe thead th {\n",
       "        text-align: right;\n",
       "    }\n",
       "</style>\n",
       "<table border=\"1\" class=\"dataframe\">\n",
       "  <thead>\n",
       "    <tr style=\"text-align: right;\">\n",
       "      <th></th>\n",
       "      <th>6873</th>\n",
       "      <th>12570</th>\n",
       "      <th>19441</th>\n",
       "      <th>8773</th>\n",
       "      <th>19273</th>\n",
       "    </tr>\n",
       "  </thead>\n",
       "  <tbody>\n",
       "    <tr>\n",
       "      <th>country</th>\n",
       "      <td>Rwanda</td>\n",
       "      <td>Rwanda</td>\n",
       "      <td>Tanzania</td>\n",
       "      <td>Rwanda</td>\n",
       "      <td>Tanzania</td>\n",
       "    </tr>\n",
       "    <tr>\n",
       "      <th>year</th>\n",
       "      <td>2016</td>\n",
       "      <td>2016</td>\n",
       "      <td>2017</td>\n",
       "      <td>2016</td>\n",
       "      <td>2017</td>\n",
       "    </tr>\n",
       "    <tr>\n",
       "      <th>uniqueid</th>\n",
       "      <td>uniqueid_806</td>\n",
       "      <td>uniqueid_6503</td>\n",
       "      <td>uniqueid_4639</td>\n",
       "      <td>uniqueid_2706</td>\n",
       "      <td>uniqueid_4471</td>\n",
       "    </tr>\n",
       "    <tr>\n",
       "      <th>bank_account</th>\n",
       "      <td>No</td>\n",
       "      <td>No</td>\n",
       "      <td>No</td>\n",
       "      <td>No</td>\n",
       "      <td>No</td>\n",
       "    </tr>\n",
       "    <tr>\n",
       "      <th>location_type</th>\n",
       "      <td>Rural</td>\n",
       "      <td>Urban</td>\n",
       "      <td>Urban</td>\n",
       "      <td>Rural</td>\n",
       "      <td>Urban</td>\n",
       "    </tr>\n",
       "    <tr>\n",
       "      <th>cellphone_access</th>\n",
       "      <td>Yes</td>\n",
       "      <td>Yes</td>\n",
       "      <td>No</td>\n",
       "      <td>No</td>\n",
       "      <td>No</td>\n",
       "    </tr>\n",
       "    <tr>\n",
       "      <th>household_size</th>\n",
       "      <td>3</td>\n",
       "      <td>9</td>\n",
       "      <td>2</td>\n",
       "      <td>3</td>\n",
       "      <td>2</td>\n",
       "    </tr>\n",
       "    <tr>\n",
       "      <th>age_of_respondent</th>\n",
       "      <td>47</td>\n",
       "      <td>35</td>\n",
       "      <td>45</td>\n",
       "      <td>65</td>\n",
       "      <td>17</td>\n",
       "    </tr>\n",
       "    <tr>\n",
       "      <th>gender_of_respondent</th>\n",
       "      <td>Female</td>\n",
       "      <td>Female</td>\n",
       "      <td>Male</td>\n",
       "      <td>Female</td>\n",
       "      <td>Female</td>\n",
       "    </tr>\n",
       "    <tr>\n",
       "      <th>relationship_with_head</th>\n",
       "      <td>Head of Household</td>\n",
       "      <td>Spouse</td>\n",
       "      <td>Head of Household</td>\n",
       "      <td>Head of Household</td>\n",
       "      <td>Parent</td>\n",
       "    </tr>\n",
       "    <tr>\n",
       "      <th>marital_status</th>\n",
       "      <td>Single/Never Married</td>\n",
       "      <td>Married/Living together</td>\n",
       "      <td>Single/Never Married</td>\n",
       "      <td>Widowed</td>\n",
       "      <td>Divorced/Seperated</td>\n",
       "    </tr>\n",
       "    <tr>\n",
       "      <th>education_level</th>\n",
       "      <td>Primary education</td>\n",
       "      <td>Primary education</td>\n",
       "      <td>Primary education</td>\n",
       "      <td>No formal education</td>\n",
       "      <td>Primary education</td>\n",
       "    </tr>\n",
       "    <tr>\n",
       "      <th>job_type</th>\n",
       "      <td>Informally employed</td>\n",
       "      <td>Informally employed</td>\n",
       "      <td>Self employed</td>\n",
       "      <td>Farming and Fishing</td>\n",
       "      <td>Remittance Dependent</td>\n",
       "    </tr>\n",
       "  </tbody>\n",
       "</table>\n",
       "</div>"
      ],
      "text/plain": [
       "                                       6873                     12570  \\\n",
       "country                               Rwanda                   Rwanda   \n",
       "year                                    2016                     2016   \n",
       "uniqueid                        uniqueid_806            uniqueid_6503   \n",
       "bank_account                              No                       No   \n",
       "location_type                          Rural                    Urban   \n",
       "cellphone_access                         Yes                      Yes   \n",
       "household_size                             3                        9   \n",
       "age_of_respondent                         47                       35   \n",
       "gender_of_respondent                  Female                   Female   \n",
       "relationship_with_head     Head of Household                   Spouse   \n",
       "marital_status          Single/Never Married  Married/Living together   \n",
       "education_level            Primary education        Primary education   \n",
       "job_type                 Informally employed      Informally employed   \n",
       "\n",
       "                                       19441                8773   \\\n",
       "country                             Tanzania               Rwanda   \n",
       "year                                    2017                 2016   \n",
       "uniqueid                       uniqueid_4639        uniqueid_2706   \n",
       "bank_account                              No                   No   \n",
       "location_type                          Urban                Rural   \n",
       "cellphone_access                          No                   No   \n",
       "household_size                             2                    3   \n",
       "age_of_respondent                         45                   65   \n",
       "gender_of_respondent                    Male               Female   \n",
       "relationship_with_head     Head of Household    Head of Household   \n",
       "marital_status          Single/Never Married              Widowed   \n",
       "education_level            Primary education  No formal education   \n",
       "job_type                       Self employed  Farming and Fishing   \n",
       "\n",
       "                                       19273  \n",
       "country                             Tanzania  \n",
       "year                                    2017  \n",
       "uniqueid                       uniqueid_4471  \n",
       "bank_account                              No  \n",
       "location_type                          Urban  \n",
       "cellphone_access                          No  \n",
       "household_size                             2  \n",
       "age_of_respondent                         17  \n",
       "gender_of_respondent                  Female  \n",
       "relationship_with_head                Parent  \n",
       "marital_status            Divorced/Seperated  \n",
       "education_level            Primary education  \n",
       "job_type                Remittance Dependent  "
      ]
     },
     "execution_count": 236,
     "metadata": {},
     "output_type": "execute_result"
    }
   ],
   "source": [
    "df = shuffle(df)\n",
    "df.head().T"
   ]
  },
  {
   "cell_type": "code",
   "execution_count": 237,
   "metadata": {},
   "outputs": [],
   "source": [
    "new_df = df.copy()"
   ]
  },
  {
   "cell_type": "markdown",
   "metadata": {},
   "source": [
    "## EDA\n",
    "\n",
    "Searching for the relationship between our features and the target"
   ]
  },
  {
   "cell_type": "code",
   "execution_count": 238,
   "metadata": {},
   "outputs": [
    {
     "data": {
      "text/plain": [
       "<matplotlib.axes._subplots.AxesSubplot at 0x7f1b5461bac8>"
      ]
     },
     "execution_count": 238,
     "metadata": {},
     "output_type": "execute_result"
    },
    {
     "data": {
      "image/png": "[encoded data removed]",
      "text/plain": [
       "<Figure size 432x288 with 1 Axes>"
      ]
     },
     "metadata": {
      "needs_background": "light"
     },
     "output_type": "display_data"
    }
   ],
   "source": [
    "pd.crosstab(new_df.country, new_df.bank_account).plot.bar()"
   ]
  },
  {
   "cell_type": "code",
   "execution_count": 239,
   "metadata": {},
   "outputs": [
    {
     "data": {
      "text/plain": [
       "<matplotlib.axes._subplots.AxesSubplot at 0x7f1b54c7ce10>"
      ]
     },
     "execution_count": 239,
     "metadata": {},
     "output_type": "execute_result"
    },
    {
     "data": {
      "image/png": "[encoded data removed]",
      "text/plain": [
       "<Figure size 432x288 with 1 Axes>"
      ]
     },
     "metadata": {
      "needs_background": "light"
     },
     "output_type": "display_data"
    }
   ],
   "source": [
    "pd.crosstab(new_df.year, new_df.bank_account).plot.bar()"
   ]
  },
  {
   "cell_type": "code",
   "execution_count": 240,
   "metadata": {},
   "outputs": [
    {
     "data": {
      "text/plain": [
       "<matplotlib.axes._subplots.AxesSubplot at 0x7f1b53694278>"
      ]
     },
     "execution_count": 240,
     "metadata": {},
     "output_type": "execute_result"
    },
    {
     "data": {
      "image/png": "[encoded data removed]",
      "text/plain": [
       "<Figure size 432x288 with 1 Axes>"
      ]
     },
     "metadata": {
      "needs_background": "light"
     },
     "output_type": "display_data"
    }
   ],
   "source": [
    "pd.crosstab(new_df.cellphone_access, new_df.bank_account).plot.bar()"
   ]
  },
  {
   "cell_type": "code",
   "execution_count": 241,
   "metadata": {},
   "outputs": [
    {
     "data": {
      "text/plain": [
       "<matplotlib.axes._subplots.AxesSubplot at 0x7f1b5422aa90>"
      ]
     },
     "execution_count": 241,
     "metadata": {},
     "output_type": "execute_result"
    },
    {
     "data": {
      "image/png": "[encoded data removed]",
      "text/plain": [
       "<Figure size 432x288 with 1 Axes>"
      ]
     },
     "metadata": {
      "needs_background": "light"
     },
     "output_type": "display_data"
    }
   ],
   "source": [
    "pd.crosstab(new_df.location_type, new_df.bank_account).plot.bar()"
   ]
  },
  {
   "cell_type": "code",
   "execution_count": 242,
   "metadata": {},
   "outputs": [
    {
     "data": {
      "text/plain": [
       "<matplotlib.axes._subplots.AxesSubplot at 0x7f1b541a62b0>"
      ]
     },
     "execution_count": 242,
     "metadata": {},
     "output_type": "execute_result"
    },
    {
     "data": {
      "image/png": "[encoded data removed]",
      "text/plain": [
       "<Figure size 1440x720 with 1 Axes>"
      ]
     },
     "metadata": {
      "needs_background": "light"
     },
     "output_type": "display_data"
    }
   ],
   "source": [
    "pd.crosstab(new_df.age_of_respondent, new_df.bank_account).plot(kind='bar', figsize=(20, 10))"
   ]
  },
  {
   "cell_type": "code",
   "execution_count": 243,
   "metadata": {},
   "outputs": [
    {
     "data": {
      "text/plain": [
       "<matplotlib.axes._subplots.AxesSubplot at 0x7f1b53efe550>"
      ]
     },
     "execution_count": 243,
     "metadata": {},
     "output_type": "execute_result"
    },
    {
     "data": {
      "image/png": "[encoded data removed]",
      "text/plain": [
       "<Figure size 432x288 with 1 Axes>"
      ]
     },
     "metadata": {
      "needs_background": "light"
     },
     "output_type": "display_data"
    }
   ],
   "source": [
    "pd.crosstab(new_df.gender_of_respondent, new_df.bank_account).plot.bar()"
   ]
  },
  {
   "cell_type": "code",
   "execution_count": 244,
   "metadata": {},
   "outputs": [
    {
     "data": {
      "text/plain": [
       "<matplotlib.axes._subplots.AxesSubplot at 0x7f1b53f15358>"
      ]
     },
     "execution_count": 244,
     "metadata": {},
     "output_type": "execute_result"
    },
    {
     "data": {
      "image/png": "[encoded data removed]",
      "text/plain": [
       "<Figure size 432x288 with 1 Axes>"
      ]
     },
     "metadata": {
      "needs_background": "light"
     },
     "output_type": "display_data"
    }
   ],
   "source": [
    "pd.crosstab(new_df.household_size, new_df.bank_account).plot.bar()"
   ]
  },
  {
   "cell_type": "code",
   "execution_count": 245,
   "metadata": {},
   "outputs": [
    {
     "data": {
      "text/plain": [
       "<matplotlib.axes._subplots.AxesSubplot at 0x7f1b53f8ec50>"
      ]
     },
     "execution_count": 245,
     "metadata": {},
     "output_type": "execute_result"
    },
    {
     "data": {
      "image/png": "[encoded data removed]",
      "text/plain": [
       "<Figure size 432x288 with 1 Axes>"
      ]
     },
     "metadata": {
      "needs_background": "light"
     },
     "output_type": "display_data"
    }
   ],
   "source": [
    "pd.crosstab(new_df.relationship_with_head, new_df.bank_account).plot.bar()"
   ]
  },
  {
   "cell_type": "code",
   "execution_count": 246,
   "metadata": {},
   "outputs": [
    {
     "data": {
      "text/plain": [
       "<matplotlib.axes._subplots.AxesSubplot at 0x7f1b575b3ba8>"
      ]
     },
     "execution_count": 246,
     "metadata": {},
     "output_type": "execute_result"
    },
    {
     "data": {
      "image/png": "[encoded data removed]",
      "text/plain": [
       "<Figure size 432x288 with 1 Axes>"
      ]
     },
     "metadata": {
      "needs_background": "light"
     },
     "output_type": "display_data"
    }
   ],
   "source": [
    "pd.crosstab(new_df.marital_status, new_df.bank_account).plot.bar()"
   ]
  },
  {
   "cell_type": "code",
   "execution_count": 247,
   "metadata": {},
   "outputs": [
    {
     "data": {
      "text/plain": [
       "<matplotlib.axes._subplots.AxesSubplot at 0x7f1b54cc7668>"
      ]
     },
     "execution_count": 247,
     "metadata": {},
     "output_type": "execute_result"
    },
    {
     "data": {
      "image/png": "[encoded data removed]",
      "text/plain": [
       "<Figure size 432x288 with 1 Axes>"
      ]
     },
     "metadata": {
      "needs_background": "light"
     },
     "output_type": "display_data"
    }
   ],
   "source": [
    "pd.crosstab(new_df.education_level, new_df.bank_account).plot.bar()"
   ]
  },
  {
   "cell_type": "code",
   "execution_count": 248,
   "metadata": {},
   "outputs": [
    {
     "data": {
      "text/plain": [
       "<matplotlib.axes._subplots.AxesSubplot at 0x7f1b53cfe668>"
      ]
     },
     "execution_count": 248,
     "metadata": {},
     "output_type": "execute_result"
    },
    {
     "data": {
      "image/png": "[encoded data removed]",
      "text/plain": [
       "<Figure size 432x288 with 1 Axes>"
      ]
     },
     "metadata": {
      "needs_background": "light"
     },
     "output_type": "display_data"
    }
   ],
   "source": [
    "pd.crosstab(new_df.job_type, new_df.bank_account).plot.bar()"
   ]
  },
  {
   "cell_type": "markdown",
   "metadata": {},
   "source": [
    "## Findings\n",
    "\n",
    "The following are conclusions from our EDA\n",
    "  * The country one belongs influences your chances of having a bank account\n",
    "   - For instance, you have a higher chance of having a bank account if Kenyan than if Tanzanian.\n",
    "     This is despite Tanzania having higher respondents\n",
    "  * Respondents with cellphone access have a higher chance of having a bank account that those without cellphone       access\n",
    "  * Younger respondents then to have bank accounts as compared to their older counterparts\n",
    "  * Repondents coming from a home with fewer people tend to have bank accounts as compared to those from               households with a large number of occupants\n",
    "  * Respondents that are married or single tend to have bank accounts\n",
    "  * Respondents with a primary education at the very least tend to have bank accounts\n",
    "  * Respondents who are employed or have any other source of income apart from government assistance tend to have     a bank account"
   ]
  },
  {
   "cell_type": "code",
   "execution_count": 249,
   "metadata": {},
   "outputs": [
    {
     "data": {
      "text/html": [
       "<div>\n",
       "<style scoped>\n",
       "    .dataframe tbody tr th:only-of-type {\n",
       "        vertical-align: middle;\n",
       "    }\n",
       "\n",
       "    .dataframe tbody tr th {\n",
       "        vertical-align: top;\n",
       "    }\n",
       "\n",
       "    .dataframe thead th {\n",
       "        text-align: right;\n",
       "    }\n",
       "</style>\n",
       "<table border=\"1\" class=\"dataframe\">\n",
       "  <thead>\n",
       "    <tr style=\"text-align: right;\">\n",
       "      <th></th>\n",
       "      <th>6873</th>\n",
       "      <th>12570</th>\n",
       "      <th>19441</th>\n",
       "      <th>8773</th>\n",
       "      <th>19273</th>\n",
       "    </tr>\n",
       "  </thead>\n",
       "  <tbody>\n",
       "    <tr>\n",
       "      <th>country</th>\n",
       "      <td>Rwanda</td>\n",
       "      <td>Rwanda</td>\n",
       "      <td>Tanzania</td>\n",
       "      <td>Rwanda</td>\n",
       "      <td>Tanzania</td>\n",
       "    </tr>\n",
       "    <tr>\n",
       "      <th>year</th>\n",
       "      <td>2016</td>\n",
       "      <td>2016</td>\n",
       "      <td>2017</td>\n",
       "      <td>2016</td>\n",
       "      <td>2017</td>\n",
       "    </tr>\n",
       "    <tr>\n",
       "      <th>uniqueid</th>\n",
       "      <td>uniqueid_806</td>\n",
       "      <td>uniqueid_6503</td>\n",
       "      <td>uniqueid_4639</td>\n",
       "      <td>uniqueid_2706</td>\n",
       "      <td>uniqueid_4471</td>\n",
       "    </tr>\n",
       "    <tr>\n",
       "      <th>bank_account</th>\n",
       "      <td>No</td>\n",
       "      <td>No</td>\n",
       "      <td>No</td>\n",
       "      <td>No</td>\n",
       "      <td>No</td>\n",
       "    </tr>\n",
       "    <tr>\n",
       "      <th>location_type</th>\n",
       "      <td>Rural</td>\n",
       "      <td>Urban</td>\n",
       "      <td>Urban</td>\n",
       "      <td>Rural</td>\n",
       "      <td>Urban</td>\n",
       "    </tr>\n",
       "    <tr>\n",
       "      <th>cellphone_access</th>\n",
       "      <td>Yes</td>\n",
       "      <td>Yes</td>\n",
       "      <td>No</td>\n",
       "      <td>No</td>\n",
       "      <td>No</td>\n",
       "    </tr>\n",
       "    <tr>\n",
       "      <th>household_size</th>\n",
       "      <td>3</td>\n",
       "      <td>9</td>\n",
       "      <td>2</td>\n",
       "      <td>3</td>\n",
       "      <td>2</td>\n",
       "    </tr>\n",
       "    <tr>\n",
       "      <th>age_of_respondent</th>\n",
       "      <td>47</td>\n",
       "      <td>35</td>\n",
       "      <td>45</td>\n",
       "      <td>65</td>\n",
       "      <td>17</td>\n",
       "    </tr>\n",
       "    <tr>\n",
       "      <th>gender_of_respondent</th>\n",
       "      <td>Female</td>\n",
       "      <td>Female</td>\n",
       "      <td>Male</td>\n",
       "      <td>Female</td>\n",
       "      <td>Female</td>\n",
       "    </tr>\n",
       "    <tr>\n",
       "      <th>relationship_with_head</th>\n",
       "      <td>Head of Household</td>\n",
       "      <td>Spouse</td>\n",
       "      <td>Head of Household</td>\n",
       "      <td>Head of Household</td>\n",
       "      <td>Parent</td>\n",
       "    </tr>\n",
       "    <tr>\n",
       "      <th>marital_status</th>\n",
       "      <td>Single/Never Married</td>\n",
       "      <td>Married/Living together</td>\n",
       "      <td>Single/Never Married</td>\n",
       "      <td>Widowed</td>\n",
       "      <td>Divorced/Seperated</td>\n",
       "    </tr>\n",
       "    <tr>\n",
       "      <th>education_level</th>\n",
       "      <td>Primary education</td>\n",
       "      <td>Primary education</td>\n",
       "      <td>Primary education</td>\n",
       "      <td>No formal education</td>\n",
       "      <td>Primary education</td>\n",
       "    </tr>\n",
       "    <tr>\n",
       "      <th>job_type</th>\n",
       "      <td>Informally employed</td>\n",
       "      <td>Informally employed</td>\n",
       "      <td>Self employed</td>\n",
       "      <td>Farming and Fishing</td>\n",
       "      <td>Remittance Dependent</td>\n",
       "    </tr>\n",
       "  </tbody>\n",
       "</table>\n",
       "</div>"
      ],
      "text/plain": [
       "                                       6873                     12570  \\\n",
       "country                               Rwanda                   Rwanda   \n",
       "year                                    2016                     2016   \n",
       "uniqueid                        uniqueid_806            uniqueid_6503   \n",
       "bank_account                              No                       No   \n",
       "location_type                          Rural                    Urban   \n",
       "cellphone_access                         Yes                      Yes   \n",
       "household_size                             3                        9   \n",
       "age_of_respondent                         47                       35   \n",
       "gender_of_respondent                  Female                   Female   \n",
       "relationship_with_head     Head of Household                   Spouse   \n",
       "marital_status          Single/Never Married  Married/Living together   \n",
       "education_level            Primary education        Primary education   \n",
       "job_type                 Informally employed      Informally employed   \n",
       "\n",
       "                                       19441                8773   \\\n",
       "country                             Tanzania               Rwanda   \n",
       "year                                    2017                 2016   \n",
       "uniqueid                       uniqueid_4639        uniqueid_2706   \n",
       "bank_account                              No                   No   \n",
       "location_type                          Urban                Rural   \n",
       "cellphone_access                          No                   No   \n",
       "household_size                             2                    3   \n",
       "age_of_respondent                         45                   65   \n",
       "gender_of_respondent                    Male               Female   \n",
       "relationship_with_head     Head of Household    Head of Household   \n",
       "marital_status          Single/Never Married              Widowed   \n",
       "education_level            Primary education  No formal education   \n",
       "job_type                       Self employed  Farming and Fishing   \n",
       "\n",
       "                                       19273  \n",
       "country                             Tanzania  \n",
       "year                                    2017  \n",
       "uniqueid                       uniqueid_4471  \n",
       "bank_account                              No  \n",
       "location_type                          Urban  \n",
       "cellphone_access                          No  \n",
       "household_size                             2  \n",
       "age_of_respondent                         17  \n",
       "gender_of_respondent                  Female  \n",
       "relationship_with_head                Parent  \n",
       "marital_status            Divorced/Seperated  \n",
       "education_level            Primary education  \n",
       "job_type                Remittance Dependent  "
      ]
     },
     "execution_count": 249,
     "metadata": {},
     "output_type": "execute_result"
    }
   ],
   "source": [
    "new_df.head().T"
   ]
  },
  {
   "cell_type": "code",
   "execution_count": 250,
   "metadata": {},
   "outputs": [],
   "source": [
    "new_df_2 = new_df.drop(\n",
    "    labels=['year', 'location_type', 'gender_of_respondent', 'uniqueid'],\n",
    "    axis=1\n",
    ")"
   ]
  },
  {
   "cell_type": "code",
   "execution_count": 251,
   "metadata": {},
   "outputs": [
    {
     "data": {
      "text/html": [
       "<div>\n",
       "<style scoped>\n",
       "    .dataframe tbody tr th:only-of-type {\n",
       "        vertical-align: middle;\n",
       "    }\n",
       "\n",
       "    .dataframe tbody tr th {\n",
       "        vertical-align: top;\n",
       "    }\n",
       "\n",
       "    .dataframe thead th {\n",
       "        text-align: right;\n",
       "    }\n",
       "</style>\n",
       "<table border=\"1\" class=\"dataframe\">\n",
       "  <thead>\n",
       "    <tr style=\"text-align: right;\">\n",
       "      <th></th>\n",
       "      <th>6873</th>\n",
       "      <th>12570</th>\n",
       "      <th>19441</th>\n",
       "      <th>8773</th>\n",
       "      <th>19273</th>\n",
       "    </tr>\n",
       "  </thead>\n",
       "  <tbody>\n",
       "    <tr>\n",
       "      <th>country</th>\n",
       "      <td>Rwanda</td>\n",
       "      <td>Rwanda</td>\n",
       "      <td>Tanzania</td>\n",
       "      <td>Rwanda</td>\n",
       "      <td>Tanzania</td>\n",
       "    </tr>\n",
       "    <tr>\n",
       "      <th>bank_account</th>\n",
       "      <td>No</td>\n",
       "      <td>No</td>\n",
       "      <td>No</td>\n",
       "      <td>No</td>\n",
       "      <td>No</td>\n",
       "    </tr>\n",
       "    <tr>\n",
       "      <th>cellphone_access</th>\n",
       "      <td>Yes</td>\n",
       "      <td>Yes</td>\n",
       "      <td>No</td>\n",
       "      <td>No</td>\n",
       "      <td>No</td>\n",
       "    </tr>\n",
       "    <tr>\n",
       "      <th>household_size</th>\n",
       "      <td>3</td>\n",
       "      <td>9</td>\n",
       "      <td>2</td>\n",
       "      <td>3</td>\n",
       "      <td>2</td>\n",
       "    </tr>\n",
       "    <tr>\n",
       "      <th>age_of_respondent</th>\n",
       "      <td>47</td>\n",
       "      <td>35</td>\n",
       "      <td>45</td>\n",
       "      <td>65</td>\n",
       "      <td>17</td>\n",
       "    </tr>\n",
       "    <tr>\n",
       "      <th>relationship_with_head</th>\n",
       "      <td>Head of Household</td>\n",
       "      <td>Spouse</td>\n",
       "      <td>Head of Household</td>\n",
       "      <td>Head of Household</td>\n",
       "      <td>Parent</td>\n",
       "    </tr>\n",
       "    <tr>\n",
       "      <th>marital_status</th>\n",
       "      <td>Single/Never Married</td>\n",
       "      <td>Married/Living together</td>\n",
       "      <td>Single/Never Married</td>\n",
       "      <td>Widowed</td>\n",
       "      <td>Divorced/Seperated</td>\n",
       "    </tr>\n",
       "    <tr>\n",
       "      <th>education_level</th>\n",
       "      <td>Primary education</td>\n",
       "      <td>Primary education</td>\n",
       "      <td>Primary education</td>\n",
       "      <td>No formal education</td>\n",
       "      <td>Primary education</td>\n",
       "    </tr>\n",
       "    <tr>\n",
       "      <th>job_type</th>\n",
       "      <td>Informally employed</td>\n",
       "      <td>Informally employed</td>\n",
       "      <td>Self employed</td>\n",
       "      <td>Farming and Fishing</td>\n",
       "      <td>Remittance Dependent</td>\n",
       "    </tr>\n",
       "  </tbody>\n",
       "</table>\n",
       "</div>"
      ],
      "text/plain": [
       "                                       6873                     12570  \\\n",
       "country                               Rwanda                   Rwanda   \n",
       "bank_account                              No                       No   \n",
       "cellphone_access                         Yes                      Yes   \n",
       "household_size                             3                        9   \n",
       "age_of_respondent                         47                       35   \n",
       "relationship_with_head     Head of Household                   Spouse   \n",
       "marital_status          Single/Never Married  Married/Living together   \n",
       "education_level            Primary education        Primary education   \n",
       "job_type                 Informally employed      Informally employed   \n",
       "\n",
       "                                       19441                8773   \\\n",
       "country                             Tanzania               Rwanda   \n",
       "bank_account                              No                   No   \n",
       "cellphone_access                          No                   No   \n",
       "household_size                             2                    3   \n",
       "age_of_respondent                         45                   65   \n",
       "relationship_with_head     Head of Household    Head of Household   \n",
       "marital_status          Single/Never Married              Widowed   \n",
       "education_level            Primary education  No formal education   \n",
       "job_type                       Self employed  Farming and Fishing   \n",
       "\n",
       "                                       19273  \n",
       "country                             Tanzania  \n",
       "bank_account                              No  \n",
       "cellphone_access                          No  \n",
       "household_size                             2  \n",
       "age_of_respondent                         17  \n",
       "relationship_with_head                Parent  \n",
       "marital_status            Divorced/Seperated  \n",
       "education_level            Primary education  \n",
       "job_type                Remittance Dependent  "
      ]
     },
     "execution_count": 251,
     "metadata": {},
     "output_type": "execute_result"
    }
   ],
   "source": [
    "new_df_2.head().T"
   ]
  },
  {
   "cell_type": "code",
   "execution_count": 252,
   "metadata": {},
   "outputs": [],
   "source": [
    "X = new_df_2.drop('bank_account', axis=1)\n",
    "y = new_df_2.bank_account\n",
    "\n",
    "categorical_columns = [\n",
    "    'country',\n",
    "    'cellphone_access',\n",
    "    'relationship_with_head',\n",
    "    'marital_status',\n",
    "    'education_level',\n",
    "    'job_type'\n",
    "]\n",
    "\n",
    "one_hot_encoder = OneHotEncoder()\n",
    "\n",
    "target_column = ['bank_account']\n",
    "\n",
    "X_transformer = ColumnTransformer(\n",
    "    transformers=[\n",
    "        ('categorical_transformer', one_hot_encoder, categorical_columns)\n",
    "    ]\n",
    ")\n",
    "y_transformer = ColumnTransformer(\n",
    "    ['target_transformer', one_hot_encoder, target_column]\n",
    ")\n",
    "\n",
    "X = X_transformer.fit_transform(X)"
   ]
  },
  {
   "cell_type": "code",
   "execution_count": 263,
   "metadata": {},
   "outputs": [],
   "source": [
    "y = LabelBinarizer().fit_transform(y)"
   ]
  },
  {
   "cell_type": "code",
   "execution_count": 267,
   "metadata": {},
   "outputs": [
    {
     "name": "stderr",
     "output_type": "stream",
     "text": [
      "/home/adam/Desktop/Financial Inclusion in Africa/fiia/lib/python3.6/site-packages/ipykernel_launcher.py:2: DataConversionWarning: A column-vector y was passed when a 1d array was expected. Please change the shape of y to (n_samples,), for example using ravel().\n",
      "  \n"
     ]
    },
    {
     "data": {
      "text/plain": [
       "RandomForestClassifier(bootstrap=True, ccp_alpha=0.0, class_weight=None,\n",
       "                       criterion='gini', max_depth=None, max_features='auto',\n",
       "                       max_leaf_nodes=None, max_samples=None,\n",
       "                       min_impurity_decrease=0.0, min_impurity_split=None,\n",
       "                       min_samples_leaf=1, min_samples_split=2,\n",
       "                       min_weight_fraction_leaf=0.0, n_estimators=100,\n",
       "                       n_jobs=-1, oob_score=False, random_state=None, verbose=0,\n",
       "                       warm_start=False)"
      ]
     },
     "execution_count": 267,
     "metadata": {},
     "output_type": "execute_result"
    }
   ],
   "source": [
    "clf = RandomForestClassifier(n_jobs=-1)\n",
    "clf.fit(X, y)"
   ]
  },
  {
   "cell_type": "code",
   "execution_count": 268,
   "metadata": {},
   "outputs": [
    {
     "data": {
      "text/html": [
       "<div>\n",
       "<style scoped>\n",
       "    .dataframe tbody tr th:only-of-type {\n",
       "        vertical-align: middle;\n",
       "    }\n",
       "\n",
       "    .dataframe tbody tr th {\n",
       "        vertical-align: top;\n",
       "    }\n",
       "\n",
       "    .dataframe thead th {\n",
       "        text-align: right;\n",
       "    }\n",
       "</style>\n",
       "<table border=\"1\" class=\"dataframe\">\n",
       "  <thead>\n",
       "    <tr style=\"text-align: right;\">\n",
       "      <th></th>\n",
       "      <th>country</th>\n",
       "      <th>year</th>\n",
       "      <th>uniqueid</th>\n",
       "      <th>location_type</th>\n",
       "      <th>cellphone_access</th>\n",
       "      <th>household_size</th>\n",
       "      <th>age_of_respondent</th>\n",
       "      <th>gender_of_respondent</th>\n",
       "      <th>relationship_with_head</th>\n",
       "      <th>marital_status</th>\n",
       "      <th>education_level</th>\n",
       "      <th>job_type</th>\n",
       "    </tr>\n",
       "  </thead>\n",
       "  <tbody>\n",
       "    <tr>\n",
       "      <th>0</th>\n",
       "      <td>Kenya</td>\n",
       "      <td>2018</td>\n",
       "      <td>uniqueid_6056</td>\n",
       "      <td>Urban</td>\n",
       "      <td>Yes</td>\n",
       "      <td>3</td>\n",
       "      <td>30</td>\n",
       "      <td>Male</td>\n",
       "      <td>Head of Household</td>\n",
       "      <td>Married/Living together</td>\n",
       "      <td>Secondary education</td>\n",
       "      <td>Formally employed Government</td>\n",
       "    </tr>\n",
       "    <tr>\n",
       "      <th>1</th>\n",
       "      <td>Kenya</td>\n",
       "      <td>2018</td>\n",
       "      <td>uniqueid_6060</td>\n",
       "      <td>Urban</td>\n",
       "      <td>Yes</td>\n",
       "      <td>7</td>\n",
       "      <td>51</td>\n",
       "      <td>Male</td>\n",
       "      <td>Head of Household</td>\n",
       "      <td>Married/Living together</td>\n",
       "      <td>Vocational/Specialised training</td>\n",
       "      <td>Formally employed Private</td>\n",
       "    </tr>\n",
       "    <tr>\n",
       "      <th>2</th>\n",
       "      <td>Kenya</td>\n",
       "      <td>2018</td>\n",
       "      <td>uniqueid_6065</td>\n",
       "      <td>Rural</td>\n",
       "      <td>No</td>\n",
       "      <td>3</td>\n",
       "      <td>77</td>\n",
       "      <td>Female</td>\n",
       "      <td>Parent</td>\n",
       "      <td>Married/Living together</td>\n",
       "      <td>No formal education</td>\n",
       "      <td>Remittance Dependent</td>\n",
       "    </tr>\n",
       "    <tr>\n",
       "      <th>3</th>\n",
       "      <td>Kenya</td>\n",
       "      <td>2018</td>\n",
       "      <td>uniqueid_6072</td>\n",
       "      <td>Rural</td>\n",
       "      <td>No</td>\n",
       "      <td>6</td>\n",
       "      <td>39</td>\n",
       "      <td>Female</td>\n",
       "      <td>Head of Household</td>\n",
       "      <td>Married/Living together</td>\n",
       "      <td>Primary education</td>\n",
       "      <td>Remittance Dependent</td>\n",
       "    </tr>\n",
       "    <tr>\n",
       "      <th>4</th>\n",
       "      <td>Kenya</td>\n",
       "      <td>2018</td>\n",
       "      <td>uniqueid_6073</td>\n",
       "      <td>Urban</td>\n",
       "      <td>No</td>\n",
       "      <td>3</td>\n",
       "      <td>16</td>\n",
       "      <td>Male</td>\n",
       "      <td>Child</td>\n",
       "      <td>Single/Never Married</td>\n",
       "      <td>Secondary education</td>\n",
       "      <td>Remittance Dependent</td>\n",
       "    </tr>\n",
       "  </tbody>\n",
       "</table>\n",
       "</div>"
      ],
      "text/plain": [
       "  country  year       uniqueid location_type cellphone_access  household_size  \\\n",
       "0   Kenya  2018  uniqueid_6056         Urban              Yes               3   \n",
       "1   Kenya  2018  uniqueid_6060         Urban              Yes               7   \n",
       "2   Kenya  2018  uniqueid_6065         Rural               No               3   \n",
       "3   Kenya  2018  uniqueid_6072         Rural               No               6   \n",
       "4   Kenya  2018  uniqueid_6073         Urban               No               3   \n",
       "\n",
       "   age_of_respondent gender_of_respondent relationship_with_head  \\\n",
       "0                 30                 Male      Head of Household   \n",
       "1                 51                 Male      Head of Household   \n",
       "2                 77               Female                 Parent   \n",
       "3                 39               Female      Head of Household   \n",
       "4                 16                 Male                  Child   \n",
       "\n",
       "            marital_status                  education_level  \\\n",
       "0  Married/Living together              Secondary education   \n",
       "1  Married/Living together  Vocational/Specialised training   \n",
       "2  Married/Living together              No formal education   \n",
       "3  Married/Living together                Primary education   \n",
       "4     Single/Never Married              Secondary education   \n",
       "\n",
       "                       job_type  \n",
       "0  Formally employed Government  \n",
       "1     Formally employed Private  \n",
       "2          Remittance Dependent  \n",
       "3          Remittance Dependent  \n",
       "4          Remittance Dependent  "
      ]
     },
     "execution_count": 268,
     "metadata": {},
     "output_type": "execute_result"
    }
   ],
   "source": [
    "test_data = pd.read_csv('./datasets/Test_v2.csv')\n",
    "test_data.head()"
   ]
  },
  {
   "cell_type": "code",
   "execution_count": null,
   "metadata": {},
   "outputs": [],
   "source": []
  }
 ],
 "metadata": {
  "kernelspec": {
   "display_name": "Python 3",
   "language": "python",
   "name": "python3"
  },
  "language_info": {
   "codemirror_mode": {
    "name": "ipython",
    "version": 3
   },
   "file_extension": ".py",
   "mimetype": "text/x-python",
   "name": "python",
   "nbconvert_exporter": "python",
   "pygments_lexer": "ipython3",
   "version": "3.6.9"
  }
 },
 "nbformat": 4,
 "nbformat_minor": 4
}
